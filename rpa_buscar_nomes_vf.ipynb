{
  "nbformat": 4,
  "nbformat_minor": 0,
  "metadata": {
    "colab": {
      "provenance": [],
      "authorship_tag": "ABX9TyOWFZNCjW7Mlrz6ZFtyzv49",
      "include_colab_link": true
    },
    "kernelspec": {
      "name": "python3",
      "display_name": "Python 3"
    },
    "language_info": {
      "name": "python"
    }
  },
  "cells": [
    {
      "cell_type": "markdown",
      "metadata": {
        "id": "view-in-github",
        "colab_type": "text"
      },
      "source": [
        "<a href=\"https://colab.research.google.com/github/samuelpg95/automacoes-colab/blob/feature-dev/rpa_buscar_nomes_vf.ipynb\" target=\"_parent\"><img src=\"https://colab.research.google.com/assets/colab-badge.svg\" alt=\"Open In Colab\"/></a>"
      ]
    },
    {
      "cell_type": "code",
      "source": [
        "# Instalar Playwright e configurar o ambiente no Google Colab\n",
        "!pip install playwright\n",
        "!playwright install"
      ],
      "metadata": {
        "colab": {
          "base_uri": "https://localhost:8080/"
        },
        "id": "NwvdI060cJ22",
        "outputId": "c5aeb6b1-8d5b-45a6-8a49-ebaae581fd1a"
      },
      "execution_count": null,
      "outputs": [
        {
          "output_type": "stream",
          "name": "stdout",
          "text": [
            "Collecting playwright\n",
            "  Downloading playwright-1.49.1-py3-none-manylinux1_x86_64.whl.metadata (3.5 kB)\n",
            "Requirement already satisfied: greenlet==3.1.1 in /usr/local/lib/python3.10/dist-packages (from playwright) (3.1.1)\n",
            "Collecting pyee==12.0.0 (from playwright)\n",
            "  Downloading pyee-12.0.0-py3-none-any.whl.metadata (2.8 kB)\n",
            "Requirement already satisfied: typing-extensions in /usr/local/lib/python3.10/dist-packages (from pyee==12.0.0->playwright) (4.12.2)\n",
            "Downloading playwright-1.49.1-py3-none-manylinux1_x86_64.whl (44.2 MB)\n",
            "\u001b[2K   \u001b[90m━━━━━━━━━━━━━━━━━━━━━━━━━━━━━━━━━━━━━━━━\u001b[0m \u001b[32m44.2/44.2 MB\u001b[0m \u001b[31m23.1 MB/s\u001b[0m eta \u001b[36m0:00:00\u001b[0m\n",
            "\u001b[?25hDownloading pyee-12.0.0-py3-none-any.whl (14 kB)\n",
            "Installing collected packages: pyee, playwright\n",
            "Successfully installed playwright-1.49.1 pyee-12.0.0\n",
            "Downloading Chromium 131.0.6778.33 (playwright build v1148)\u001b[2m from https://playwright.azureedge.net/builds/chromium/1148/chromium-linux.zip\u001b[22m\n",
            "\u001b[1G161.3 MiB [] 0% 10.7s\u001b[0K\u001b[1G161.3 MiB [] 0% 35.3s\u001b[0K\u001b[1G161.3 MiB [] 0% 28.4s\u001b[0K\u001b[1G161.3 MiB [] 0% 16.1s\u001b[0K\u001b[1G161.3 MiB [] 0% 8.9s\u001b[0K\u001b[1G161.3 MiB [] 1% 5.3s\u001b[0K\u001b[1G161.3 MiB [] 2% 4.1s\u001b[0K\u001b[1G161.3 MiB [] 3% 3.5s\u001b[0K\u001b[1G161.3 MiB [] 3% 3.6s\u001b[0K\u001b[1G161.3 MiB [] 4% 3.4s\u001b[0K\u001b[1G161.3 MiB [] 5% 3.0s\u001b[0K\u001b[1G161.3 MiB [] 6% 3.0s\u001b[0K\u001b[1G161.3 MiB [] 7% 3.0s\u001b[0K\u001b[1G161.3 MiB [] 7% 2.9s\u001b[0K\u001b[1G161.3 MiB [] 8% 2.7s\u001b[0K\u001b[1G161.3 MiB [] 9% 2.7s\u001b[0K\u001b[1G161.3 MiB [] 10% 2.5s\u001b[0K\u001b[1G161.3 MiB [] 11% 2.4s\u001b[0K\u001b[1G161.3 MiB [] 12% 2.4s\u001b[0K\u001b[1G161.3 MiB [] 12% 2.5s\u001b[0K\u001b[1G161.3 MiB [] 13% 2.4s\u001b[0K\u001b[1G161.3 MiB [] 14% 2.4s\u001b[0K\u001b[1G161.3 MiB [] 14% 2.5s\u001b[0K\u001b[1G161.3 MiB [] 16% 2.2s\u001b[0K\u001b[1G161.3 MiB [] 17% 2.2s\u001b[0K\u001b[1G161.3 MiB [] 18% 2.1s\u001b[0K\u001b[1G161.3 MiB [] 19% 2.0s\u001b[0K\u001b[1G161.3 MiB [] 20% 2.0s\u001b[0K\u001b[1G161.3 MiB [] 21% 2.0s\u001b[0K\u001b[1G161.3 MiB [] 22% 1.9s\u001b[0K\u001b[1G161.3 MiB [] 23% 1.9s\u001b[0K\u001b[1G161.3 MiB [] 24% 1.9s\u001b[0K\u001b[1G161.3 MiB [] 25% 1.9s\u001b[0K\u001b[1G161.3 MiB [] 26% 1.8s\u001b[0K\u001b[1G161.3 MiB [] 27% 1.8s\u001b[0K\u001b[1G161.3 MiB [] 28% 1.7s\u001b[0K\u001b[1G161.3 MiB [] 29% 1.7s\u001b[0K\u001b[1G161.3 MiB [] 29% 1.8s\u001b[0K\u001b[1G161.3 MiB [] 30% 1.8s\u001b[0K\u001b[1G161.3 MiB [] 31% 1.7s\u001b[0K\u001b[1G161.3 MiB [] 32% 1.7s\u001b[0K\u001b[1G161.3 MiB [] 33% 1.6s\u001b[0K\u001b[1G161.3 MiB [] 34% 1.6s\u001b[0K\u001b[1G161.3 MiB [] 35% 1.6s\u001b[0K\u001b[1G161.3 MiB [] 36% 1.5s\u001b[0K\u001b[1G161.3 MiB [] 37% 1.5s\u001b[0K\u001b[1G161.3 MiB [] 38% 1.5s\u001b[0K\u001b[1G161.3 MiB [] 39% 1.4s\u001b[0K\u001b[1G161.3 MiB [] 40% 1.4s\u001b[0K\u001b[1G161.3 MiB [] 41% 1.4s\u001b[0K\u001b[1G161.3 MiB [] 42% 1.4s\u001b[0K\u001b[1G161.3 MiB [] 43% 1.3s\u001b[0K\u001b[1G161.3 MiB [] 44% 1.3s\u001b[0K\u001b[1G161.3 MiB [] 45% 1.3s\u001b[0K\u001b[1G161.3 MiB [] 46% 1.3s\u001b[0K\u001b[1G161.3 MiB [] 46% 1.2s\u001b[0K\u001b[1G161.3 MiB [] 47% 1.2s\u001b[0K\u001b[1G161.3 MiB [] 48% 1.2s\u001b[0K\u001b[1G161.3 MiB [] 49% 1.2s\u001b[0K\u001b[1G161.3 MiB [] 50% 1.2s\u001b[0K\u001b[1G161.3 MiB [] 51% 1.1s\u001b[0K\u001b[1G161.3 MiB [] 52% 1.1s\u001b[0K\u001b[1G161.3 MiB [] 53% 1.1s\u001b[0K\u001b[1G161.3 MiB [] 54% 1.0s\u001b[0K\u001b[1G161.3 MiB [] 55% 1.0s\u001b[0K\u001b[1G161.3 MiB [] 56% 1.0s\u001b[0K\u001b[1G161.3 MiB [] 57% 1.0s\u001b[0K\u001b[1G161.3 MiB [] 58% 0.9s\u001b[0K\u001b[1G161.3 MiB [] 59% 0.9s\u001b[0K\u001b[1G161.3 MiB [] 60% 0.9s\u001b[0K\u001b[1G161.3 MiB [] 61% 0.9s\u001b[0K\u001b[1G161.3 MiB [] 62% 0.8s\u001b[0K\u001b[1G161.3 MiB [] 63% 0.8s\u001b[0K\u001b[1G161.3 MiB [] 64% 0.8s\u001b[0K\u001b[1G161.3 MiB [] 65% 0.8s\u001b[0K\u001b[1G161.3 MiB [] 66% 0.7s\u001b[0K\u001b[1G161.3 MiB [] 67% 0.7s\u001b[0K\u001b[1G161.3 MiB [] 68% 0.7s\u001b[0K\u001b[1G161.3 MiB [] 69% 0.7s\u001b[0K\u001b[1G161.3 MiB [] 70% 0.7s\u001b[0K\u001b[1G161.3 MiB [] 71% 0.6s\u001b[0K\u001b[1G161.3 MiB [] 72% 0.6s\u001b[0K\u001b[1G161.3 MiB [] 73% 0.6s\u001b[0K\u001b[1G161.3 MiB [] 74% 0.6s\u001b[0K\u001b[1G161.3 MiB [] 75% 0.6s\u001b[0K\u001b[1G161.3 MiB [] 76% 0.6s\u001b[0K\u001b[1G161.3 MiB [] 76% 0.5s\u001b[0K\u001b[1G161.3 MiB [] 77% 0.5s\u001b[0K\u001b[1G161.3 MiB [] 78% 0.5s\u001b[0K\u001b[1G161.3 MiB [] 79% 0.5s\u001b[0K\u001b[1G161.3 MiB [] 80% 0.5s\u001b[0K\u001b[1G161.3 MiB [] 81% 0.5s\u001b[0K\u001b[1G161.3 MiB [] 81% 0.4s\u001b[0K\u001b[1G161.3 MiB [] 82% 0.4s\u001b[0K\u001b[1G161.3 MiB [] 83% 0.4s\u001b[0K\u001b[1G161.3 MiB [] 84% 0.4s\u001b[0K\u001b[1G161.3 MiB [] 85% 0.4s\u001b[0K\u001b[1G161.3 MiB [] 85% 0.3s\u001b[0K\u001b[1G161.3 MiB [] 86% 0.3s\u001b[0K\u001b[1G161.3 MiB [] 87% 0.3s\u001b[0K\u001b[1G161.3 MiB [] 88% 0.3s\u001b[0K\u001b[1G161.3 MiB [] 89% 0.3s\u001b[0K\u001b[1G161.3 MiB [] 89% 0.2s\u001b[0K\u001b[1G161.3 MiB [] 90% 0.2s\u001b[0K\u001b[1G161.3 MiB [] 91% 0.2s\u001b[0K\u001b[1G161.3 MiB [] 92% 0.2s\u001b[0K\u001b[1G161.3 MiB [] 93% 0.2s\u001b[0K\u001b[1G161.3 MiB [] 94% 0.1s\u001b[0K\u001b[1G161.3 MiB [] 95% 0.1s\u001b[0K\u001b[1G161.3 MiB [] 96% 0.1s\u001b[0K\u001b[1G161.3 MiB [] 97% 0.1s\u001b[0K\u001b[1G161.3 MiB [] 98% 0.0s\u001b[0K\u001b[1G161.3 MiB [] 99% 0.0s\u001b[0K\u001b[1G161.3 MiB [] 100% 0.0s\u001b[0K\n",
            "Chromium 131.0.6778.33 (playwright build v1148) downloaded to /root/.cache/ms-playwright/chromium-1148\n",
            "Downloading Chromium Headless Shell 131.0.6778.33 (playwright build v1148)\u001b[2m from https://playwright.azureedge.net/builds/chromium/1148/chromium-headless-shell-linux.zip\u001b[22m\n",
            "\u001b[1G100.9 MiB [] 0% 0.0s\u001b[0K\u001b[1G100.9 MiB [] 0% 20.8s\u001b[0K\u001b[1G100.9 MiB [] 0% 16.1s\u001b[0K\u001b[1G100.9 MiB [] 0% 9.9s\u001b[0K\u001b[1G100.9 MiB [] 0% 8.6s\u001b[0K\u001b[1G100.9 MiB [] 1% 6.0s\u001b[0K\u001b[1G100.9 MiB [] 2% 4.4s\u001b[0K\u001b[1G100.9 MiB [] 2% 3.9s\u001b[0K\u001b[1G100.9 MiB [] 3% 3.7s\u001b[0K\u001b[1G100.9 MiB [] 4% 3.6s\u001b[0K\u001b[1G100.9 MiB [] 4% 3.8s\u001b[0K\u001b[1G100.9 MiB [] 4% 4.1s\u001b[0K\u001b[1G100.9 MiB [] 5% 3.9s\u001b[0K\u001b[1G100.9 MiB [] 5% 3.7s\u001b[0K\u001b[1G100.9 MiB [] 6% 3.8s\u001b[0K\u001b[1G100.9 MiB [] 6% 3.7s\u001b[0K\u001b[1G100.9 MiB [] 7% 3.6s\u001b[0K\u001b[1G100.9 MiB [] 8% 3.5s\u001b[0K\u001b[1G100.9 MiB [] 8% 3.4s\u001b[0K\u001b[1G100.9 MiB [] 9% 3.4s\u001b[0K\u001b[1G100.9 MiB [] 10% 3.4s\u001b[0K\u001b[1G100.9 MiB [] 10% 3.6s\u001b[0K\u001b[1G100.9 MiB [] 10% 3.7s\u001b[0K\u001b[1G100.9 MiB [] 11% 3.6s\u001b[0K\u001b[1G100.9 MiB [] 12% 3.6s\u001b[0K\u001b[1G100.9 MiB [] 13% 3.5s\u001b[0K\u001b[1G100.9 MiB [] 13% 3.4s\u001b[0K\u001b[1G100.9 MiB [] 14% 3.3s\u001b[0K\u001b[1G100.9 MiB [] 15% 3.2s\u001b[0K\u001b[1G100.9 MiB [] 15% 3.3s\u001b[0K\u001b[1G100.9 MiB [] 16% 3.2s\u001b[0K\u001b[1G100.9 MiB [] 17% 3.2s\u001b[0K\u001b[1G100.9 MiB [] 18% 3.2s\u001b[0K\u001b[1G100.9 MiB [] 18% 3.1s\u001b[0K\u001b[1G100.9 MiB [] 19% 3.0s\u001b[0K\u001b[1G100.9 MiB [] 20% 3.0s\u001b[0K\u001b[1G100.9 MiB [] 20% 2.9s\u001b[0K\u001b[1G100.9 MiB [] 21% 2.8s\u001b[0K\u001b[1G100.9 MiB [] 22% 2.8s\u001b[0K\u001b[1G100.9 MiB [] 23% 2.7s\u001b[0K\u001b[1G100.9 MiB [] 23% 2.8s\u001b[0K\u001b[1G100.9 MiB [] 23% 2.7s\u001b[0K\u001b[1G100.9 MiB [] 24% 2.7s\u001b[0K\u001b[1G100.9 MiB [] 25% 2.7s\u001b[0K\u001b[1G100.9 MiB [] 26% 2.6s\u001b[0K\u001b[1G100.9 MiB [] 27% 2.6s\u001b[0K\u001b[1G100.9 MiB [] 28% 2.5s\u001b[0K\u001b[1G100.9 MiB [] 29% 2.4s\u001b[0K\u001b[1G100.9 MiB [] 30% 2.3s\u001b[0K\u001b[1G100.9 MiB [] 31% 2.3s\u001b[0K\u001b[1G100.9 MiB [] 32% 2.2s\u001b[0K\u001b[1G100.9 MiB [] 33% 2.2s\u001b[0K\u001b[1G100.9 MiB [] 34% 2.1s\u001b[0K\u001b[1G100.9 MiB [] 35% 2.0s\u001b[0K\u001b[1G100.9 MiB [] 36% 2.0s\u001b[0K\u001b[1G100.9 MiB [] 37% 2.0s\u001b[0K\u001b[1G100.9 MiB [] 38% 1.9s\u001b[0K\u001b[1G100.9 MiB [] 39% 1.9s\u001b[0K\u001b[1G100.9 MiB [] 40% 1.8s\u001b[0K\u001b[1G100.9 MiB [] 41% 1.8s\u001b[0K\u001b[1G100.9 MiB [] 42% 1.7s\u001b[0K\u001b[1G100.9 MiB [] 43% 1.7s\u001b[0K\u001b[1G100.9 MiB [] 44% 1.6s\u001b[0K\u001b[1G100.9 MiB [] 45% 1.6s\u001b[0K\u001b[1G100.9 MiB [] 46% 1.6s\u001b[0K\u001b[1G100.9 MiB [] 47% 1.5s\u001b[0K\u001b[1G100.9 MiB [] 49% 1.5s\u001b[0K\u001b[1G100.9 MiB [] 50% 1.4s\u001b[0K\u001b[1G100.9 MiB [] 51% 1.4s\u001b[0K\u001b[1G100.9 MiB [] 52% 1.3s\u001b[0K\u001b[1G100.9 MiB [] 53% 1.3s\u001b[0K\u001b[1G100.9 MiB [] 54% 1.3s\u001b[0K\u001b[1G100.9 MiB [] 55% 1.2s\u001b[0K\u001b[1G100.9 MiB [] 56% 1.2s\u001b[0K\u001b[1G100.9 MiB [] 57% 1.2s\u001b[0K\u001b[1G100.9 MiB [] 57% 1.1s\u001b[0K\u001b[1G100.9 MiB [] 58% 1.1s\u001b[0K\u001b[1G100.9 MiB [] 59% 1.1s\u001b[0K\u001b[1G100.9 MiB [] 60% 1.1s\u001b[0K\u001b[1G100.9 MiB [] 61% 1.0s\u001b[0K\u001b[1G100.9 MiB [] 62% 1.0s\u001b[0K\u001b[1G100.9 MiB [] 63% 1.0s\u001b[0K\u001b[1G100.9 MiB [] 64% 0.9s\u001b[0K\u001b[1G100.9 MiB [] 65% 0.9s\u001b[0K\u001b[1G100.9 MiB [] 66% 0.9s\u001b[0K\u001b[1G100.9 MiB [] 67% 0.9s\u001b[0K\u001b[1G100.9 MiB [] 68% 0.8s\u001b[0K\u001b[1G100.9 MiB [] 69% 0.8s\u001b[0K\u001b[1G100.9 MiB [] 70% 0.8s\u001b[0K\u001b[1G100.9 MiB [] 72% 0.7s\u001b[0K\u001b[1G100.9 MiB [] 73% 0.7s\u001b[0K\u001b[1G100.9 MiB [] 74% 0.7s\u001b[0K\u001b[1G100.9 MiB [] 75% 0.7s\u001b[0K\u001b[1G100.9 MiB [] 75% 0.6s\u001b[0K\u001b[1G100.9 MiB [] 76% 0.6s\u001b[0K\u001b[1G100.9 MiB [] 77% 0.6s\u001b[0K\u001b[1G100.9 MiB [] 78% 0.6s\u001b[0K\u001b[1G100.9 MiB [] 80% 0.5s\u001b[0K\u001b[1G100.9 MiB [] 81% 0.5s\u001b[0K\u001b[1G100.9 MiB [] 82% 0.5s\u001b[0K\u001b[1G100.9 MiB [] 83% 0.4s\u001b[0K\u001b[1G100.9 MiB [] 84% 0.4s\u001b[0K\u001b[1G100.9 MiB [] 85% 0.4s\u001b[0K\u001b[1G100.9 MiB [] 86% 0.4s\u001b[0K\u001b[1G100.9 MiB [] 87% 0.3s\u001b[0K\u001b[1G100.9 MiB [] 88% 0.3s\u001b[0K\u001b[1G100.9 MiB [] 89% 0.3s\u001b[0K\u001b[1G100.9 MiB [] 90% 0.2s\u001b[0K\u001b[1G100.9 MiB [] 91% 0.2s\u001b[0K\u001b[1G100.9 MiB [] 92% 0.2s\u001b[0K\u001b[1G100.9 MiB [] 93% 0.2s\u001b[0K\u001b[1G100.9 MiB [] 94% 0.1s\u001b[0K\u001b[1G100.9 MiB [] 95% 0.1s\u001b[0K\u001b[1G100.9 MiB [] 96% 0.1s\u001b[0K\u001b[1G100.9 MiB [] 97% 0.1s\u001b[0K\u001b[1G100.9 MiB [] 98% 0.0s\u001b[0K\u001b[1G100.9 MiB [] 99% 0.0s\u001b[0K\u001b[1G100.9 MiB [] 100% 0.0s\u001b[0K\n",
            "Chromium Headless Shell 131.0.6778.33 (playwright build v1148) downloaded to /root/.cache/ms-playwright/chromium_headless_shell-1148\n",
            "Downloading Firefox 132.0 (playwright build v1466)\u001b[2m from https://playwright.azureedge.net/builds/firefox/1466/firefox-ubuntu-22.04.zip\u001b[22m\n",
            "\u001b[1G87.6 MiB [] 0% 0.0s\u001b[0K\u001b[1G87.6 MiB [] 0% 19.2s\u001b[0K\u001b[1G87.6 MiB [] 0% 14.7s\u001b[0K\u001b[1G87.6 MiB [] 0% 7.3s\u001b[0K\u001b[1G87.6 MiB [] 1% 3.9s\u001b[0K\u001b[1G87.6 MiB [] 2% 3.0s\u001b[0K\u001b[1G87.6 MiB [] 3% 2.5s\u001b[0K\u001b[1G87.6 MiB [] 4% 2.4s\u001b[0K\u001b[1G87.6 MiB [] 5% 2.3s\u001b[0K\u001b[1G87.6 MiB [] 6% 2.2s\u001b[0K\u001b[1G87.6 MiB [] 7% 2.0s\u001b[0K\u001b[1G87.6 MiB [] 8% 1.9s\u001b[0K\u001b[1G87.6 MiB [] 9% 1.8s\u001b[0K\u001b[1G87.6 MiB [] 10% 1.8s\u001b[0K\u001b[1G87.6 MiB [] 11% 1.7s\u001b[0K\u001b[1G87.6 MiB [] 12% 1.8s\u001b[0K\u001b[1G87.6 MiB [] 13% 1.8s\u001b[0K\u001b[1G87.6 MiB [] 14% 1.8s\u001b[0K\u001b[1G87.6 MiB [] 15% 1.7s\u001b[0K\u001b[1G87.6 MiB [] 17% 1.6s\u001b[0K\u001b[1G87.6 MiB [] 17% 1.7s\u001b[0K\u001b[1G87.6 MiB [] 19% 1.6s\u001b[0K\u001b[1G87.6 MiB [] 20% 1.6s\u001b[0K\u001b[1G87.6 MiB [] 21% 1.6s\u001b[0K\u001b[1G87.6 MiB [] 22% 1.5s\u001b[0K\u001b[1G87.6 MiB [] 23% 1.5s\u001b[0K\u001b[1G87.6 MiB [] 24% 1.4s\u001b[0K\u001b[1G87.6 MiB [] 26% 1.4s\u001b[0K\u001b[1G87.6 MiB [] 27% 1.4s\u001b[0K\u001b[1G87.6 MiB [] 28% 1.4s\u001b[0K\u001b[1G87.6 MiB [] 30% 1.3s\u001b[0K\u001b[1G87.6 MiB [] 31% 1.3s\u001b[0K\u001b[1G87.6 MiB [] 32% 1.3s\u001b[0K\u001b[1G87.6 MiB [] 33% 1.2s\u001b[0K\u001b[1G87.6 MiB [] 34% 1.2s\u001b[0K\u001b[1G87.6 MiB [] 35% 1.2s\u001b[0K\u001b[1G87.6 MiB [] 36% 1.2s\u001b[0K\u001b[1G87.6 MiB [] 38% 1.1s\u001b[0K\u001b[1G87.6 MiB [] 39% 1.1s\u001b[0K\u001b[1G87.6 MiB [] 40% 1.1s\u001b[0K\u001b[1G87.6 MiB [] 41% 1.1s\u001b[0K\u001b[1G87.6 MiB [] 42% 1.1s\u001b[0K\u001b[1G87.6 MiB [] 43% 1.1s\u001b[0K\u001b[1G87.6 MiB [] 45% 1.0s\u001b[0K\u001b[1G87.6 MiB [] 46% 1.0s\u001b[0K\u001b[1G87.6 MiB [] 47% 1.0s\u001b[0K\u001b[1G87.6 MiB [] 49% 0.9s\u001b[0K\u001b[1G87.6 MiB [] 50% 0.9s\u001b[0K\u001b[1G87.6 MiB [] 51% 0.9s\u001b[0K\u001b[1G87.6 MiB [] 52% 0.8s\u001b[0K\u001b[1G87.6 MiB [] 53% 0.8s\u001b[0K\u001b[1G87.6 MiB [] 54% 0.8s\u001b[0K\u001b[1G87.6 MiB [] 57% 0.8s\u001b[0K\u001b[1G87.6 MiB [] 59% 0.7s\u001b[0K\u001b[1G87.6 MiB [] 61% 0.7s\u001b[0K\u001b[1G87.6 MiB [] 63% 0.6s\u001b[0K\u001b[1G87.6 MiB [] 66% 0.5s\u001b[0K\u001b[1G87.6 MiB [] 68% 0.5s\u001b[0K\u001b[1G87.6 MiB [] 69% 0.5s\u001b[0K\u001b[1G87.6 MiB [] 70% 0.5s\u001b[0K\u001b[1G87.6 MiB [] 72% 0.5s\u001b[0K\u001b[1G87.6 MiB [] 73% 0.4s\u001b[0K\u001b[1G87.6 MiB [] 75% 0.4s\u001b[0K\u001b[1G87.6 MiB [] 76% 0.4s\u001b[0K\u001b[1G87.6 MiB [] 77% 0.4s\u001b[0K\u001b[1G87.6 MiB [] 79% 0.3s\u001b[0K\u001b[1G87.6 MiB [] 82% 0.3s\u001b[0K\u001b[1G87.6 MiB [] 83% 0.2s\u001b[0K\u001b[1G87.6 MiB [] 85% 0.2s\u001b[0K\u001b[1G87.6 MiB [] 86% 0.2s\u001b[0K\u001b[1G87.6 MiB [] 88% 0.2s\u001b[0K\u001b[1G87.6 MiB [] 90% 0.1s\u001b[0K\u001b[1G87.6 MiB [] 93% 0.1s\u001b[0K\u001b[1G87.6 MiB [] 94% 0.1s\u001b[0K\u001b[1G87.6 MiB [] 96% 0.0s\u001b[0K\u001b[1G87.6 MiB [] 98% 0.0s\u001b[0K\u001b[1G87.6 MiB [] 100% 0.0s\u001b[0K\n",
            "Firefox 132.0 (playwright build v1466) downloaded to /root/.cache/ms-playwright/firefox-1466\n",
            "Downloading Webkit 18.2 (playwright build v2104)\u001b[2m from https://playwright.azureedge.net/builds/webkit/2104/webkit-ubuntu-22.04.zip\u001b[22m\n",
            "\u001b[1G95.5 MiB [] 0% 0.0s\u001b[0K\u001b[1G95.5 MiB [] 0% 18.4s\u001b[0K\u001b[1G95.5 MiB [] 0% 16.0s\u001b[0K\u001b[1G95.5 MiB [] 0% 8.9s\u001b[0K\u001b[1G95.5 MiB [] 1% 4.3s\u001b[0K\u001b[1G95.5 MiB [] 2% 2.7s\u001b[0K\u001b[1G95.5 MiB [] 4% 2.2s\u001b[0K\u001b[1G95.5 MiB [] 5% 2.0s\u001b[0K\u001b[1G95.5 MiB [] 7% 1.7s\u001b[0K\u001b[1G95.5 MiB [] 8% 1.5s\u001b[0K\u001b[1G95.5 MiB [] 10% 1.5s\u001b[0K\u001b[1G95.5 MiB [] 10% 1.4s\u001b[0K\u001b[1G95.5 MiB [] 11% 1.6s\u001b[0K\u001b[1G95.5 MiB [] 12% 1.5s\u001b[0K\u001b[1G95.5 MiB [] 13% 1.5s\u001b[0K\u001b[1G95.5 MiB [] 15% 1.4s\u001b[0K\u001b[1G95.5 MiB [] 16% 1.4s\u001b[0K\u001b[1G95.5 MiB [] 17% 1.3s\u001b[0K\u001b[1G95.5 MiB [] 18% 1.3s\u001b[0K\u001b[1G95.5 MiB [] 20% 1.2s\u001b[0K\u001b[1G95.5 MiB [] 22% 1.1s\u001b[0K\u001b[1G95.5 MiB [] 24% 1.1s\u001b[0K\u001b[1G95.5 MiB [] 26% 1.0s\u001b[0K\u001b[1G95.5 MiB [] 28% 1.0s\u001b[0K\u001b[1G95.5 MiB [] 30% 0.9s\u001b[0K\u001b[1G95.5 MiB [] 32% 0.9s\u001b[0K\u001b[1G95.5 MiB [] 34% 0.8s\u001b[0K\u001b[1G95.5 MiB [] 36% 0.8s\u001b[0K\u001b[1G95.5 MiB [] 38% 0.7s\u001b[0K\u001b[1G95.5 MiB [] 40% 0.7s\u001b[0K\u001b[1G95.5 MiB [] 42% 0.7s\u001b[0K\u001b[1G95.5 MiB [] 44% 0.6s\u001b[0K\u001b[1G95.5 MiB [] 46% 0.6s\u001b[0K\u001b[1G95.5 MiB [] 48% 0.6s\u001b[0K\u001b[1G95.5 MiB [] 49% 0.6s\u001b[0K\u001b[1G95.5 MiB [] 52% 0.6s\u001b[0K\u001b[1G95.5 MiB [] 53% 0.5s\u001b[0K\u001b[1G95.5 MiB [] 55% 0.5s\u001b[0K\u001b[1G95.5 MiB [] 57% 0.5s\u001b[0K\u001b[1G95.5 MiB [] 59% 0.5s\u001b[0K\u001b[1G95.5 MiB [] 60% 0.4s\u001b[0K\u001b[1G95.5 MiB [] 62% 0.4s\u001b[0K\u001b[1G95.5 MiB [] 64% 0.4s\u001b[0K\u001b[1G95.5 MiB [] 64% 0.5s\u001b[0K\u001b[1G95.5 MiB [] 65% 0.5s\u001b[0K\u001b[1G95.5 MiB [] 66% 0.6s\u001b[0K\u001b[1G95.5 MiB [] 67% 0.6s\u001b[0K\u001b[1G95.5 MiB [] 68% 0.6s\u001b[0K\u001b[1G95.5 MiB [] 69% 0.5s\u001b[0K\u001b[1G95.5 MiB [] 71% 0.5s\u001b[0K\u001b[1G95.5 MiB [] 73% 0.5s\u001b[0K\u001b[1G95.5 MiB [] 75% 0.4s\u001b[0K\u001b[1G95.5 MiB [] 77% 0.4s\u001b[0K\u001b[1G95.5 MiB [] 79% 0.3s\u001b[0K\u001b[1G95.5 MiB [] 81% 0.3s\u001b[0K\u001b[1G95.5 MiB [] 82% 0.3s\u001b[0K\u001b[1G95.5 MiB [] 84% 0.2s\u001b[0K\u001b[1G95.5 MiB [] 86% 0.2s\u001b[0K\u001b[1G95.5 MiB [] 88% 0.2s\u001b[0K\u001b[1G95.5 MiB [] 89% 0.2s\u001b[0K\u001b[1G95.5 MiB [] 91% 0.1s\u001b[0K\u001b[1G95.5 MiB [] 93% 0.1s\u001b[0K\u001b[1G95.5 MiB [] 96% 0.1s\u001b[0K\u001b[1G95.5 MiB [] 98% 0.0s\u001b[0K\u001b[1G95.5 MiB [] 99% 0.0s\u001b[0K\u001b[1G95.5 MiB [] 100% 0.0s\u001b[0K\n",
            "Webkit 18.2 (playwright build v2104) downloaded to /root/.cache/ms-playwright/webkit-2104\n",
            "Downloading FFMPEG playwright build v1010\u001b[2m from https://playwright.azureedge.net/builds/ffmpeg/1010/ffmpeg-linux.zip\u001b[22m\n",
            "\u001b[1G2.3 MiB [] 0% 0.0s\u001b[0K\u001b[1G2.3 MiB [] 4% 0.4s\u001b[0K\u001b[1G2.3 MiB [] 11% 0.3s\u001b[0K\u001b[1G2.3 MiB [] 28% 0.1s\u001b[0K\u001b[1G2.3 MiB [] 47% 0.1s\u001b[0K\u001b[1G2.3 MiB [] 97% 0.0s\u001b[0K\u001b[1G2.3 MiB [] 100% 0.0s\u001b[0K\n",
            "FFMPEG playwright build v1010 downloaded to /root/.cache/ms-playwright/ffmpeg-1010\n",
            "Playwright Host validation warning: \n",
            "╔══════════════════════════════════════════════════════╗\n",
            "║ Host system is missing dependencies to run browsers. ║\n",
            "║ Missing libraries:                                   ║\n",
            "║     libwoff2dec.so.1.0.2                             ║\n",
            "║     libgstgl-1.0.so.0                                ║\n",
            "║     libgstcodecparsers-1.0.so.0                      ║\n",
            "║     libavif.so.13                                    ║\n",
            "║     libharfbuzz-icu.so.0                             ║\n",
            "║     libenchant-2.so.2                                ║\n",
            "║     libsecret-1.so.0                                 ║\n",
            "║     libhyphen.so.0                                   ║\n",
            "║     libmanette-0.2.so.0                              ║\n",
            "╚══════════════════════════════════════════════════════╝\n",
            "    at validateDependenciesLinux (/usr/local/lib/python3.10/dist-packages/playwright/driver/package/lib/server/registry/dependencies.js:216:9)\n",
            "\u001b[90m    at process.processTicksAndRejections (node:internal/process/task_queues:105:5)\u001b[39m\n",
            "    at async Registry._validateHostRequirements (/usr/local/lib/python3.10/dist-packages/playwright/driver/package/lib/server/registry/index.js:753:43)\n",
            "    at async Registry._validateHostRequirementsForExecutableIfNeeded (/usr/local/lib/python3.10/dist-packages/playwright/driver/package/lib/server/registry/index.js:851:7)\n",
            "    at async Registry.validateHostRequirementsForExecutablesIfNeeded (/usr/local/lib/python3.10/dist-packages/playwright/driver/package/lib/server/registry/index.js:840:43)\n",
            "    at async t.<anonymous> (/usr/local/lib/python3.10/dist-packages/playwright/driver/package/lib/cli/program.js:137:7)\n"
          ]
        }
      ]
    },
    {
      "cell_type": "code",
      "source": [
        "# Import the necessary libraries\n",
        "from playwright.async_api import async_playwright\n",
        "import asyncio"
      ],
      "metadata": {
        "id": "EC07Hjt4Ujtu"
      },
      "execution_count": null,
      "outputs": []
    },
    {
      "cell_type": "markdown",
      "source": [
        "versão com loop"
      ],
      "metadata": {
        "id": "VqdvaSXrn671"
      }
    },
    {
      "cell_type": "code",
      "source": [
        "\n",
        "\n",
        "# Define the asynchronous function to perform the search\n",
        "async def buscar_nomes(nomes):\n",
        "    # Launch the browser in headless mode\n",
        "    async with async_playwright() as p:\n",
        "        browser = await p.chromium.launch(headless=True)\n",
        "        page = await browser.new_page()\n",
        "\n",
        "        # Navigate to the website\n",
        "        await page.goto(\"https://www.dicionariodenomesproprios.com.br/\", timeout=300000)\n",
        "\n",
        "        # Define a list to store the results\n",
        "        resultados = []\n",
        "\n",
        "        # Iterate over the list of names\n",
        "        for nome in nomes:\n",
        "            # Locate the search field using XPath and enter the name\n",
        "            campo_pesquisa_xpath = \"/html/body/div[1]/div/div/div[3]/form/input\"\n",
        "            await page.fill(f\"xpath={campo_pesquisa_xpath}\", \"\")  # Clear the input field\n",
        "            await page.fill(f\"xpath={campo_pesquisa_xpath}\", nome)\n",
        "\n",
        "            # Simulate clicking the search button (by pressing Enter)\n",
        "            await page.press(f\"xpath={campo_pesquisa_xpath}\", \"Enter\")\n",
        "\n",
        "            # Wait for the results to load\n",
        "            await page.wait_for_selector(\"body\")\n",
        "\n",
        "            # Extract the first result text using the provided XPath\n",
        "            primeiro_resultado_xpath = \"/html/body/div[2]/div[2]/div/div[1]/div/div[2]/div/ul[1]/li[1]\"\n",
        "            primeiro_resultado = await page.text_content(f\"xpath={primeiro_resultado_xpath}\")\n",
        "\n",
        "            # Append the result to the list\n",
        "            resultados.append({\"nome\": nome, \"resultado\": primeiro_resultado})\n",
        "\n",
        "            # Print the result\n",
        "            print(f\"Resultado para {nome}: {primeiro_resultado}\")\n",
        "\n",
        "        # Close the browser\n",
        "        await browser.close()\n",
        "\n",
        "        # Return the list of results\n",
        "        return resultados\n",
        "\n",
        "# Define the main function that will be executed\n",
        "async def main():\n",
        "    # List of names to search\n",
        "    nomes = [\"Samia\", \"Gilberto\", \"Paulo\"]\n",
        "\n",
        "    # Call the asynchronous search function\n",
        "    resultados = await buscar_nomes(nomes)\n",
        "\n",
        "    # Print all results\n",
        "    print(\"\\nResultados Finais:\")\n",
        "    for resultado in resultados:\n",
        "        print(f\"{resultado['nome']}: {resultado['resultado']}\")\n",
        "\n",
        "# Instead of using asyncio.run(), use await in a Jupyter/Colab cell:\n",
        "await main() # This will execute the main function within the existing event loop.\n",
        "\n"
      ],
      "metadata": {
        "colab": {
          "base_uri": "https://localhost:8080/"
        },
        "id": "kbrfq8bKn8UJ",
        "outputId": "5442be47-9702-4d16-ebed-fc60581549ae"
      },
      "execution_count": null,
      "outputs": [
        {
          "output_type": "stream",
          "name": "stdout",
          "text": [
            "Resultado para Samia: \n",
            "                                        \n",
            "                                            Samia\n",
            "                                             Significa “elevada”, “sublime”, “suprema”; “seu nome é Deus”.\n",
            "\n",
            "Samia é um nome de origem árabe, muito popular na Turquia. O mesmo teria...\n",
            "                                        \n",
            "                                    \n",
            "Resultado para Gilberto: \n",
            "                                        \n",
            "                                            Gilberto\n",
            "                                             Significa \"garantia ilustre\", \"refém famoso\".\n",
            "\n",
            "Elegante e forte, o nome masculino Gilberto tem origem a partir do germânico Gisilbert, formado pela junção...\n",
            "                                        \n",
            "                                    \n",
            "Resultado para Paulo: \n",
            "                                        \n",
            "                                            Paulo\n",
            "                                             Significa “pequeno”, “de baixa estatura”.\n",
            "\n",
            "O nome Paulo tem origem no latim Paullus, a partir de paullo, que quer dizer “pequeno\" ou...\n",
            "                                        \n",
            "                                    \n",
            "\n",
            "Resultados Finais:\n",
            "Samia: \n",
            "                                        \n",
            "                                            Samia\n",
            "                                             Significa “elevada”, “sublime”, “suprema”; “seu nome é Deus”.\n",
            "\n",
            "Samia é um nome de origem árabe, muito popular na Turquia. O mesmo teria...\n",
            "                                        \n",
            "                                    \n",
            "Gilberto: \n",
            "                                        \n",
            "                                            Gilberto\n",
            "                                             Significa \"garantia ilustre\", \"refém famoso\".\n",
            "\n",
            "Elegante e forte, o nome masculino Gilberto tem origem a partir do germânico Gisilbert, formado pela junção...\n",
            "                                        \n",
            "                                    \n",
            "Paulo: \n",
            "                                        \n",
            "                                            Paulo\n",
            "                                             Significa “pequeno”, “de baixa estatura”.\n",
            "\n",
            "O nome Paulo tem origem no latim Paullus, a partir de paullo, que quer dizer “pequeno\" ou...\n",
            "                                        \n",
            "                                    \n"
          ]
        }
      ]
    }
  ]
}